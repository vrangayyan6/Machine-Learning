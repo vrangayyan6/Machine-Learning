{
  "nbformat": 4,
  "nbformat_minor": 0,
  "metadata": {
    "colab": {
      "provenance": [],
      "machine_shape": "hm",
      "include_colab_link": true
    },
    "kernelspec": {
      "name": "python3",
      "display_name": "Python 3"
    },
    "accelerator": "GPU"
  },
  "cells": [
    {
      "cell_type": "markdown",
      "metadata": {
        "id": "view-in-github",
        "colab_type": "text"
      },
      "source": [
        "<a href=\"https://colab.research.google.com/github/vrangayyan6/Machine-Learning/blob/main/fastai2_ulmfit_multiclass.ipynb\" target=\"_parent\"><img src=\"https://colab.research.google.com/assets/colab-badge.svg\" alt=\"Open In Colab\"/></a>"
      ]
    },
    {
      "cell_type": "code",
      "metadata": {
        "id": "p5s2AOSzQFBC",
        "outputId": "19b7336a-6c02-45f6-a734-f620c03fe82d",
        "colab": {
          "base_uri": "https://localhost:8080/",
          "height": 207
        }
      },
      "source": [
        "!pip show fastai"
      ],
      "execution_count": null,
      "outputs": [
        {
          "output_type": "stream",
          "text": [
            "Name: fastai\n",
            "Version: 2.0.16\n",
            "Summary: fastai simplifies training fast and accurate neural nets using modern best practices\n",
            "Home-page: https://github.com/fastai/fastai/tree/master/\n",
            "Author: Jeremy Howard, Sylvain Gugger, and contributors\n",
            "Author-email: info@fast.ai\n",
            "License: Apache Software License 2.0\n",
            "Location: /usr/local/lib/python3.6/dist-packages\n",
            "Requires: spacy, pyyaml, packaging, matplotlib, torch, pillow, fastcore, fastprogress, requests, pip, scikit-learn, scipy, torchvision, pandas\n",
            "Required-by: \n"
          ],
          "name": "stdout"
        }
      ]
    },
    {
      "cell_type": "code",
      "metadata": {
        "id": "rKPDubiqQb0b",
        "outputId": "530825c5-1068-42a6-83c4-48499d2cc97b",
        "colab": {
          "base_uri": "https://localhost:8080/",
          "height": 734
        }
      },
      "source": [
        "!pip install fastai --upgrade"
      ],
      "execution_count": null,
      "outputs": [
        {
          "output_type": "stream",
          "text": [
            "Requirement already up-to-date: fastai in /usr/local/lib/python3.6/dist-packages (2.0.16)\n",
            "Requirement already satisfied, skipping upgrade: pip in /usr/local/lib/python3.6/dist-packages (from fastai) (19.3.1)\n",
            "Requirement already satisfied, skipping upgrade: requests in /usr/local/lib/python3.6/dist-packages (from fastai) (2.23.0)\n",
            "Requirement already satisfied, skipping upgrade: fastprogress>=0.2.4 in /usr/local/lib/python3.6/dist-packages (from fastai) (1.0.0)\n",
            "Requirement already satisfied, skipping upgrade: torchvision>=0.7 in /usr/local/lib/python3.6/dist-packages (from fastai) (0.7.0+cu101)\n",
            "Requirement already satisfied, skipping upgrade: spacy in /usr/local/lib/python3.6/dist-packages (from fastai) (2.2.4)\n",
            "Requirement already satisfied, skipping upgrade: fastcore>=1.1.0 in /usr/local/lib/python3.6/dist-packages (from fastai) (1.1.0)\n",
            "Requirement already satisfied, skipping upgrade: matplotlib in /usr/local/lib/python3.6/dist-packages (from fastai) (3.2.2)\n",
            "Requirement already satisfied, skipping upgrade: scikit-learn in /usr/local/lib/python3.6/dist-packages (from fastai) (0.22.2.post1)\n",
            "Requirement already satisfied, skipping upgrade: packaging in /usr/local/lib/python3.6/dist-packages (from fastai) (20.4)\n",
            "Requirement already satisfied, skipping upgrade: pandas in /usr/local/lib/python3.6/dist-packages (from fastai) (1.1.2)\n",
            "Requirement already satisfied, skipping upgrade: pyyaml in /usr/local/lib/python3.6/dist-packages (from fastai) (3.13)\n",
            "Requirement already satisfied, skipping upgrade: scipy in /usr/local/lib/python3.6/dist-packages (from fastai) (1.4.1)\n",
            "Requirement already satisfied, skipping upgrade: pillow in /usr/local/lib/python3.6/dist-packages (from fastai) (7.0.0)\n",
            "Requirement already satisfied, skipping upgrade: torch>=1.6.0 in /usr/local/lib/python3.6/dist-packages (from fastai) (1.6.0+cu101)\n",
            "Requirement already satisfied, skipping upgrade: urllib3!=1.25.0,!=1.25.1,<1.26,>=1.21.1 in /usr/local/lib/python3.6/dist-packages (from requests->fastai) (1.24.3)\n",
            "Requirement already satisfied, skipping upgrade: certifi>=2017.4.17 in /usr/local/lib/python3.6/dist-packages (from requests->fastai) (2020.6.20)\n",
            "Requirement already satisfied, skipping upgrade: chardet<4,>=3.0.2 in /usr/local/lib/python3.6/dist-packages (from requests->fastai) (3.0.4)\n",
            "Requirement already satisfied, skipping upgrade: idna<3,>=2.5 in /usr/local/lib/python3.6/dist-packages (from requests->fastai) (2.10)\n",
            "Requirement already satisfied, skipping upgrade: numpy in /usr/local/lib/python3.6/dist-packages (from fastprogress>=0.2.4->fastai) (1.18.5)\n",
            "Requirement already satisfied, skipping upgrade: setuptools in /usr/local/lib/python3.6/dist-packages (from spacy->fastai) (50.3.0)\n",
            "Requirement already satisfied, skipping upgrade: srsly<1.1.0,>=1.0.2 in /usr/local/lib/python3.6/dist-packages (from spacy->fastai) (1.0.2)\n",
            "Requirement already satisfied, skipping upgrade: catalogue<1.1.0,>=0.0.7 in /usr/local/lib/python3.6/dist-packages (from spacy->fastai) (1.0.0)\n",
            "Requirement already satisfied, skipping upgrade: thinc==7.4.0 in /usr/local/lib/python3.6/dist-packages (from spacy->fastai) (7.4.0)\n",
            "Requirement already satisfied, skipping upgrade: tqdm<5.0.0,>=4.38.0 in /usr/local/lib/python3.6/dist-packages (from spacy->fastai) (4.41.1)\n",
            "Requirement already satisfied, skipping upgrade: plac<1.2.0,>=0.9.6 in /usr/local/lib/python3.6/dist-packages (from spacy->fastai) (1.1.3)\n",
            "Requirement already satisfied, skipping upgrade: blis<0.5.0,>=0.4.0 in /usr/local/lib/python3.6/dist-packages (from spacy->fastai) (0.4.1)\n",
            "Requirement already satisfied, skipping upgrade: murmurhash<1.1.0,>=0.28.0 in /usr/local/lib/python3.6/dist-packages (from spacy->fastai) (1.0.2)\n",
            "Requirement already satisfied, skipping upgrade: wasabi<1.1.0,>=0.4.0 in /usr/local/lib/python3.6/dist-packages (from spacy->fastai) (0.8.0)\n",
            "Requirement already satisfied, skipping upgrade: cymem<2.1.0,>=2.0.2 in /usr/local/lib/python3.6/dist-packages (from spacy->fastai) (2.0.3)\n",
            "Requirement already satisfied, skipping upgrade: preshed<3.1.0,>=3.0.2 in /usr/local/lib/python3.6/dist-packages (from spacy->fastai) (3.0.2)\n",
            "Requirement already satisfied, skipping upgrade: cycler>=0.10 in /usr/local/lib/python3.6/dist-packages (from matplotlib->fastai) (0.10.0)\n",
            "Requirement already satisfied, skipping upgrade: python-dateutil>=2.1 in /usr/local/lib/python3.6/dist-packages (from matplotlib->fastai) (2.8.1)\n",
            "Requirement already satisfied, skipping upgrade: kiwisolver>=1.0.1 in /usr/local/lib/python3.6/dist-packages (from matplotlib->fastai) (1.2.0)\n",
            "Requirement already satisfied, skipping upgrade: pyparsing!=2.0.4,!=2.1.2,!=2.1.6,>=2.0.1 in /usr/local/lib/python3.6/dist-packages (from matplotlib->fastai) (2.4.7)\n",
            "Requirement already satisfied, skipping upgrade: joblib>=0.11 in /usr/local/lib/python3.6/dist-packages (from scikit-learn->fastai) (0.16.0)\n",
            "Requirement already satisfied, skipping upgrade: six in /usr/local/lib/python3.6/dist-packages (from packaging->fastai) (1.15.0)\n",
            "Requirement already satisfied, skipping upgrade: pytz>=2017.2 in /usr/local/lib/python3.6/dist-packages (from pandas->fastai) (2018.9)\n",
            "Requirement already satisfied, skipping upgrade: future in /usr/local/lib/python3.6/dist-packages (from torch>=1.6.0->fastai) (0.16.0)\n",
            "Requirement already satisfied, skipping upgrade: importlib-metadata>=0.20; python_version < \"3.8\" in /usr/local/lib/python3.6/dist-packages (from catalogue<1.1.0,>=0.0.7->spacy->fastai) (2.0.0)\n",
            "Requirement already satisfied, skipping upgrade: zipp>=0.5 in /usr/local/lib/python3.6/dist-packages (from importlib-metadata>=0.20; python_version < \"3.8\"->catalogue<1.1.0,>=0.0.7->spacy->fastai) (3.2.0)\n"
          ],
          "name": "stdout"
        }
      ]
    },
    {
      "cell_type": "code",
      "metadata": {
        "id": "zzHyphToQlzt"
      },
      "source": [
        "from fastai.text.all import *"
      ],
      "execution_count": null,
      "outputs": []
    },
    {
      "cell_type": "code",
      "metadata": {
        "id": "vQ-dWoGdfnMx",
        "outputId": "471b1ad3-c686-4fba-9a0c-058702c6fba6",
        "colab": {
          "base_uri": "https://localhost:8080/",
          "height": 34
        }
      },
      "source": [
        "from google.colab import drive\n",
        "drive.mount(\"/content/drive/\")"
      ],
      "execution_count": null,
      "outputs": [
        {
          "output_type": "stream",
          "text": [
            "Drive already mounted at /content/drive/; to attempt to forcibly remount, call drive.mount(\"/content/drive/\", force_remount=True).\n"
          ],
          "name": "stdout"
        }
      ]
    },
    {
      "cell_type": "markdown",
      "metadata": {
        "id": "gdV1fxzf4p9O"
      },
      "source": [
        "# Game reviews dataset\n",
        "https://drive.google.com/drive/u/0/folders/1HwJOw2kPpeFzpSvJL_qMmINrtL5lq6RH filename: dataset_version2_commonsensemedia_reviews.csv"
      ]
    },
    {
      "cell_type": "code",
      "metadata": {
        "id": "g-4aQCAK20nJ",
        "outputId": "335feee8-d4d3-4d22-c47e-99b1f0cd2e59",
        "colab": {
          "base_uri": "https://localhost:8080/",
          "height": 1000
        }
      },
      "source": [
        "combine_path = \"/content/drive/My Drive/Omdena/dataset_version2_commonsensemedia_reviews.csv\"\n",
        "input_df = pd.read_csv(combine_path, header=0)\n",
        "print(input_df.shape)\n",
        "input_df.head()"
      ],
      "execution_count": null,
      "outputs": [
        {
          "output_type": "stream",
          "text": [
            "(40433, 17)\n"
          ],
          "name": "stdout"
        },
        {
          "output_type": "stream",
          "text": [
            "/usr/local/lib/python3.6/dist-packages/IPython/core/interactiveshell.py:2718: DtypeWarning: Columns (13) have mixed types.Specify dtype option on import or set low_memory=False.\n",
            "  interactivity=interactivity, compiler=compiler, result=result)\n"
          ],
          "name": "stderr"
        },
        {
          "output_type": "execute_result",
          "data": {
            "text/html": [
              "<div>\n",
              "<style scoped>\n",
              "    .dataframe tbody tr th:only-of-type {\n",
              "        vertical-align: middle;\n",
              "    }\n",
              "\n",
              "    .dataframe tbody tr th {\n",
              "        vertical-align: top;\n",
              "    }\n",
              "\n",
              "    .dataframe thead th {\n",
              "        text-align: right;\n",
              "    }\n",
              "</style>\n",
              "<table border=\"1\" class=\"dataframe\">\n",
              "  <thead>\n",
              "    <tr style=\"text-align: right;\">\n",
              "      <th></th>\n",
              "      <th>game_name</th>\n",
              "      <th>review</th>\n",
              "      <th>user_name</th>\n",
              "      <th>reviewer_type</th>\n",
              "      <th>type</th>\n",
              "      <th>Positive Messages</th>\n",
              "      <th>Positive Role Models &amp; Representations</th>\n",
              "      <th>Ease of Play</th>\n",
              "      <th>Violence</th>\n",
              "      <th>Sex</th>\n",
              "      <th>Language</th>\n",
              "      <th>Consumerism</th>\n",
              "      <th>Drinking, Drugs &amp; Smoking</th>\n",
              "      <th>review_sentiment</th>\n",
              "      <th>risk_level</th>\n",
              "      <th>risk_level_encoded</th>\n",
              "      <th>type_encoded</th>\n",
              "    </tr>\n",
              "  </thead>\n",
              "  <tbody>\n",
              "    <tr>\n",
              "      <th>0</th>\n",
              "      <td>Flickr</td>\n",
              "      <td>Depends what photos you are looking at. If your looking at just having a place to store photo's then choose this place.</td>\n",
              "      <td>ICEYWARM</td>\n",
              "      <td>Adult</td>\n",
              "      <td>website</td>\n",
              "      <td>3.0</td>\n",
              "      <td>3.0</td>\n",
              "      <td>3.0</td>\n",
              "      <td>4.0</td>\n",
              "      <td>3.0</td>\n",
              "      <td>3.0</td>\n",
              "      <td>3.0</td>\n",
              "      <td>0.0</td>\n",
              "      <td>Flicker</td>\n",
              "      <td>high_risk</td>\n",
              "      <td>1</td>\n",
              "      <td>1</td>\n",
              "    </tr>\n",
              "    <tr>\n",
              "      <th>1</th>\n",
              "      <td>Flickr</td>\n",
              "      <td>I hate it, its amazing what people say and post these days. If you have kids or your a kid, remember once you send something over the internet, who knows who will get it.</td>\n",
              "      <td>2442hayhay2442</td>\n",
              "      <td>Parent of a 8, 11, and 13-year-old</td>\n",
              "      <td>website</td>\n",
              "      <td>3.0</td>\n",
              "      <td>3.0</td>\n",
              "      <td>3.0</td>\n",
              "      <td>4.0</td>\n",
              "      <td>3.0</td>\n",
              "      <td>3.0</td>\n",
              "      <td>3.0</td>\n",
              "      <td>0.0</td>\n",
              "      <td>age???</td>\n",
              "      <td>high_risk</td>\n",
              "      <td>1</td>\n",
              "      <td>1</td>\n",
              "    </tr>\n",
              "    <tr>\n",
              "      <th>2</th>\n",
              "      <td>Flickr</td>\n",
              "      <td>great site for all ages.</td>\n",
              "      <td>Kejr</td>\n",
              "      <td>Adult</td>\n",
              "      <td>website</td>\n",
              "      <td>3.0</td>\n",
              "      <td>3.0</td>\n",
              "      <td>3.0</td>\n",
              "      <td>4.0</td>\n",
              "      <td>3.0</td>\n",
              "      <td>3.0</td>\n",
              "      <td>3.0</td>\n",
              "      <td>0.0</td>\n",
              "      <td>NaN</td>\n",
              "      <td>high_risk</td>\n",
              "      <td>1</td>\n",
              "      <td>1</td>\n",
              "    </tr>\n",
              "    <tr>\n",
              "      <th>3</th>\n",
              "      <td>Flickr</td>\n",
              "      <td>Flickr can be a rough place, but I choose to stay away from most of that and focus on people's photos of nature and such.\\nI find non-photographers on Flickr rather aggravating, as they may post some obscene photo in a nature group, etc.\\nMost often, it's teens that get the photography bug, not children. I recommend using this website once you've gotten yourself hooked on the photography hobby.</td>\n",
              "      <td>MisterObvious</td>\n",
              "      <td>Teen, 14 years old</td>\n",
              "      <td>website</td>\n",
              "      <td>3.0</td>\n",
              "      <td>3.0</td>\n",
              "      <td>3.0</td>\n",
              "      <td>4.0</td>\n",
              "      <td>3.0</td>\n",
              "      <td>3.0</td>\n",
              "      <td>3.0</td>\n",
              "      <td>0.0</td>\n",
              "      <td>For Photographers Only</td>\n",
              "      <td>high_risk</td>\n",
              "      <td>1</td>\n",
              "      <td>1</td>\n",
              "    </tr>\n",
              "    <tr>\n",
              "      <th>4</th>\n",
              "      <td>Flickr</td>\n",
              "      <td>Flickr is a good photo sharing site, there's not much inappropriate content, it's not inappropriate like Deviantart and it automatically blocks inappropriate content I believe.</td>\n",
              "      <td>TheBombFunn</td>\n",
              "      <td>Teen, 13 years old</td>\n",
              "      <td>website</td>\n",
              "      <td>3.0</td>\n",
              "      <td>3.0</td>\n",
              "      <td>3.0</td>\n",
              "      <td>4.0</td>\n",
              "      <td>3.0</td>\n",
              "      <td>3.0</td>\n",
              "      <td>3.0</td>\n",
              "      <td>0.0</td>\n",
              "      <td>Great photo sharing website</td>\n",
              "      <td>high_risk</td>\n",
              "      <td>1</td>\n",
              "      <td>1</td>\n",
              "    </tr>\n",
              "  </tbody>\n",
              "</table>\n",
              "</div>"
            ],
            "text/plain": [
              "  game_name  ... type_encoded\n",
              "0    Flickr  ...            1\n",
              "1    Flickr  ...            1\n",
              "2    Flickr  ...            1\n",
              "3    Flickr  ...            1\n",
              "4    Flickr  ...            1\n",
              "\n",
              "[5 rows x 17 columns]"
            ]
          },
          "metadata": {
            "tags": []
          },
          "execution_count": 5
        }
      ]
    },
    {
      "cell_type": "code",
      "metadata": {
        "id": "qM_ivSVnDZw1",
        "outputId": "5f4e7c81-2558-401e-ceeb-ef0fa8a51430",
        "colab": {
          "base_uri": "https://localhost:8080/",
          "height": 119
        }
      },
      "source": [
        "print(input_df.columns)"
      ],
      "execution_count": null,
      "outputs": [
        {
          "output_type": "stream",
          "text": [
            "Index(['game_name', 'review', 'user_name', 'reviewer_type', 'type',\n",
            "       'Positive Messages', 'Positive Role Models & Representations',\n",
            "       'Ease of Play', 'Violence', 'Sex', 'Language', 'Consumerism',\n",
            "       'Drinking, Drugs & Smoking', 'review_sentiment', 'risk_level',\n",
            "       'risk_level_encoded', 'type_encoded'],\n",
            "      dtype='object')\n"
          ],
          "name": "stdout"
        }
      ]
    },
    {
      "cell_type": "code",
      "metadata": {
        "id": "GMnfneMX_iss",
        "outputId": "f76d6a07-269a-4e1c-cd8a-64063c2d1131",
        "colab": {
          "base_uri": "https://localhost:8080/",
          "height": 68
        }
      },
      "source": [
        "# filter reviews of Adults input_df[input_df.reviewer_type == 'Adult']\n",
        "combine_df = input_df.loc[:,['review', 'Sex']].rename(columns={\"review\": \"Comments\", \"Sex\": \"label\"})\n",
        "print(combine_df.isnull().sum())"
      ],
      "execution_count": null,
      "outputs": [
        {
          "output_type": "stream",
          "text": [
            "Comments      5\n",
            "label       238\n",
            "dtype: int64\n"
          ],
          "name": "stdout"
        }
      ]
    },
    {
      "cell_type": "code",
      "metadata": {
        "id": "TGumtPVRZuZQ",
        "outputId": "4b0a1129-a5a5-403f-9c62-e6319bde5cf0",
        "colab": {
          "base_uri": "https://localhost:8080/",
          "height": 187
        }
      },
      "source": [
        "combine_df = combine_df.dropna().reset_index(drop=True)\n",
        "print(combine_df.isnull().sum())\n",
        "print(combine_df['label'].value_counts())"
      ],
      "execution_count": null,
      "outputs": [
        {
          "output_type": "stream",
          "text": [
            "Comments    0\n",
            "label       0\n",
            "dtype: int64\n",
            "0.0    18391\n",
            "3.0    10675\n",
            "1.0     3904\n",
            "4.0     3244\n",
            "2.0     2464\n",
            "5.0     1515\n",
            "Name: label, dtype: int64\n"
          ],
          "name": "stdout"
        }
      ]
    },
    {
      "cell_type": "code",
      "metadata": {
        "id": "woYIjErbDgdo",
        "outputId": "4c1f9da1-2683-4f70-c696-1bd1e428835c",
        "colab": {
          "base_uri": "https://localhost:8080/",
          "height": 524
        }
      },
      "source": [
        "combine_df = combine_df.groupby('label').apply(lambda x: x.sample(n=1500, replace=True, random_state=10))\n",
        "print(combine_df.shape)\n",
        "print(combine_df['label'].value_counts())\n",
        "# max comment length\n",
        "print('max ', max(combine_df['Comments'].apply(len)))\n",
        "\n",
        "combine_df.head()"
      ],
      "execution_count": null,
      "outputs": [
        {
          "output_type": "stream",
          "text": [
            "(9000, 2)\n",
            "5.0    1500\n",
            "4.0    1500\n",
            "3.0    1500\n",
            "2.0    1500\n",
            "1.0    1500\n",
            "0.0    1500\n",
            "Name: label, dtype: int64\n",
            "max  9499\n"
          ],
          "name": "stdout"
        },
        {
          "output_type": "execute_result",
          "data": {
            "text/html": [
              "<div>\n",
              "<style scoped>\n",
              "    .dataframe tbody tr th:only-of-type {\n",
              "        vertical-align: middle;\n",
              "    }\n",
              "\n",
              "    .dataframe tbody tr th {\n",
              "        vertical-align: top;\n",
              "    }\n",
              "\n",
              "    .dataframe thead th {\n",
              "        text-align: right;\n",
              "    }\n",
              "</style>\n",
              "<table border=\"1\" class=\"dataframe\">\n",
              "  <thead>\n",
              "    <tr style=\"text-align: right;\">\n",
              "      <th></th>\n",
              "      <th></th>\n",
              "      <th>Comments</th>\n",
              "      <th>label</th>\n",
              "    </tr>\n",
              "    <tr>\n",
              "      <th>label</th>\n",
              "      <th></th>\n",
              "      <th></th>\n",
              "      <th></th>\n",
              "    </tr>\n",
              "  </thead>\n",
              "  <tbody>\n",
              "    <tr>\n",
              "      <th rowspan=\"5\" valign=\"top\">0.0</th>\n",
              "      <th>39261</th>\n",
              "      <td>HOLY CRAP THIS GAME SCARED THE CRAP OUT OF ME!!!very violent and could give a child night terrors please don't let a kid who gets scared easily play this it could mess them up pshycologicly</td>\n",
              "      <td>0.0</td>\n",
              "    </tr>\n",
              "    <tr>\n",
              "      <th>19002</th>\n",
              "      <td>If you like scary games like Left 4 Dead or Slenderman. I recommend giving Five Night's at Freddy's a try. It has simple mechanics and there jumpscares are not even scary in my opinion, there just bobbing heads. But it's backstory is very dark. Also for parents, there is this dude named golden Freddy. You can get by his jumpscare by selecting on custom night: 1987. You will see his black deep eyes following with a lower pitch version of the jumpscare sound, he also makes your game ded.</td>\n",
              "      <td>0.0</td>\n",
              "    </tr>\n",
              "    <tr>\n",
              "      <th>39316</th>\n",
              "      <td>Play is very good and follows movie well. Graphics and sound are excellent in MOST scenes. Could have a little more ability to go your own way. However there is more than enough possibilities to entertain. Only wish it was longer. End comes too quickly. All in all an excellent game.</td>\n",
              "      <td>0.0</td>\n",
              "    </tr>\n",
              "    <tr>\n",
              "      <th>19000</th>\n",
              "      <td>I am an avid fan of this game and have been in the lore since the first game. Something I need to address is all of the parents who are hating on the game just because they dont like it or they only watched the theories and the backstories.\\nIs the game suspenseful? Yes, 100%. Does the game itself show any violence or gore? No. Only the theories and the backstory to why the events happen in the game are disturbing, but extremely intriguing. The only blood that is shown in the game franchise is at the very end of the third game when you see a purple man go inside a spring-lock suit, and pro...</td>\n",
              "      <td>0.0</td>\n",
              "    </tr>\n",
              "    <tr>\n",
              "      <th>22263</th>\n",
              "      <td>Very fun</td>\n",
              "      <td>0.0</td>\n",
              "    </tr>\n",
              "  </tbody>\n",
              "</table>\n",
              "</div>"
            ],
            "text/plain": [
              "                                                                                                                                                                                                                                                                                                                                                                                                                                                                                                                                                                                                                            Comments  label\n",
              "label                                                                                                                                                                                                                                                                                                                                                                                                                                                                                                                                                                                                                                      \n",
              "0.0   39261                                                                                                                                                                                                                                                                                                                                                                                                                            HOLY CRAP THIS GAME SCARED THE CRAP OUT OF ME!!!very violent and could give a child night terrors please don't let a kid who gets scared easily play this it could mess them up pshycologicly    0.0\n",
              "      19002                                                                                                               If you like scary games like Left 4 Dead or Slenderman. I recommend giving Five Night's at Freddy's a try. It has simple mechanics and there jumpscares are not even scary in my opinion, there just bobbing heads. But it's backstory is very dark. Also for parents, there is this dude named golden Freddy. You can get by his jumpscare by selecting on custom night: 1987. You will see his black deep eyes following with a lower pitch version of the jumpscare sound, he also makes your game ded.    0.0\n",
              "      39316                                                                                                                                                                                                                                                                                                                              Play is very good and follows movie well. Graphics and sound are excellent in MOST scenes. Could have a little more ability to go your own way. However there is more than enough possibilities to entertain. Only wish it was longer. End comes too quickly. All in all an excellent game.    0.0\n",
              "      19000  I am an avid fan of this game and have been in the lore since the first game. Something I need to address is all of the parents who are hating on the game just because they dont like it or they only watched the theories and the backstories.\\nIs the game suspenseful? Yes, 100%. Does the game itself show any violence or gore? No. Only the theories and the backstory to why the events happen in the game are disturbing, but extremely intriguing. The only blood that is shown in the game franchise is at the very end of the third game when you see a purple man go inside a spring-lock suit, and pro...    0.0\n",
              "      22263                                                                                                                                                                                                                                                                                                                                                                                                                                                                                                                                                                                                                 Very fun    0.0"
            ]
          },
          "metadata": {
            "tags": []
          },
          "execution_count": 9
        }
      ]
    },
    {
      "cell_type": "markdown",
      "metadata": {
        "id": "90bY9MA4blZL"
      },
      "source": [
        "#Using high level text classifier API"
      ]
    },
    {
      "cell_type": "code",
      "metadata": {
        "id": "nBbDHwyvb54h",
        "outputId": "510b6bec-72c0-4302-9fe9-2bd1117c0c97",
        "colab": {
          "base_uri": "https://localhost:8080/",
          "height": 17
        }
      },
      "source": [
        "dls = TextDataLoaders.from_df(combine_df, valid_pct=0.1)"
      ],
      "execution_count": null,
      "outputs": [
        {
          "output_type": "display_data",
          "data": {
            "text/html": [
              ""
            ],
            "text/plain": [
              "<IPython.core.display.HTML object>"
            ]
          },
          "metadata": {
            "tags": []
          }
        }
      ]
    },
    {
      "cell_type": "code",
      "metadata": {
        "id": "F81OLff1cAHN"
      },
      "source": [
        "learn = text_classifier_learner(dls, AWD_LSTM, drop_mult=0.5, metrics=accuracy)"
      ],
      "execution_count": null,
      "outputs": []
    },
    {
      "cell_type": "code",
      "metadata": {
        "id": "Hs0D6U7zcF8n",
        "outputId": "5da5243a-7432-4717-fc22-497fb6a3bad2",
        "colab": {
          "base_uri": "https://localhost:8080/",
          "height": 236
        }
      },
      "source": [
        "learn.fine_tune(4, 1e-02)"
      ],
      "execution_count": null,
      "outputs": [
        {
          "output_type": "display_data",
          "data": {
            "text/html": [
              "<table border=\"1\" class=\"dataframe\">\n",
              "  <thead>\n",
              "    <tr style=\"text-align: left;\">\n",
              "      <th>epoch</th>\n",
              "      <th>train_loss</th>\n",
              "      <th>valid_loss</th>\n",
              "      <th>accuracy</th>\n",
              "      <th>time</th>\n",
              "    </tr>\n",
              "  </thead>\n",
              "  <tbody>\n",
              "    <tr>\n",
              "      <td>0</td>\n",
              "      <td>1.843424</td>\n",
              "      <td>1.679998</td>\n",
              "      <td>0.315556</td>\n",
              "      <td>00:13</td>\n",
              "    </tr>\n",
              "  </tbody>\n",
              "</table>"
            ],
            "text/plain": [
              "<IPython.core.display.HTML object>"
            ]
          },
          "metadata": {
            "tags": []
          }
        },
        {
          "output_type": "display_data",
          "data": {
            "text/html": [
              "<table border=\"1\" class=\"dataframe\">\n",
              "  <thead>\n",
              "    <tr style=\"text-align: left;\">\n",
              "      <th>epoch</th>\n",
              "      <th>train_loss</th>\n",
              "      <th>valid_loss</th>\n",
              "      <th>accuracy</th>\n",
              "      <th>time</th>\n",
              "    </tr>\n",
              "  </thead>\n",
              "  <tbody>\n",
              "    <tr>\n",
              "      <td>0</td>\n",
              "      <td>1.626588</td>\n",
              "      <td>1.628839</td>\n",
              "      <td>0.365556</td>\n",
              "      <td>00:28</td>\n",
              "    </tr>\n",
              "    <tr>\n",
              "      <td>1</td>\n",
              "      <td>1.473397</td>\n",
              "      <td>1.403804</td>\n",
              "      <td>0.463333</td>\n",
              "      <td>00:28</td>\n",
              "    </tr>\n",
              "    <tr>\n",
              "      <td>2</td>\n",
              "      <td>1.261811</td>\n",
              "      <td>1.286699</td>\n",
              "      <td>0.516667</td>\n",
              "      <td>00:28</td>\n",
              "    </tr>\n",
              "    <tr>\n",
              "      <td>3</td>\n",
              "      <td>1.068821</td>\n",
              "      <td>1.295907</td>\n",
              "      <td>0.510000</td>\n",
              "      <td>00:28</td>\n",
              "    </tr>\n",
              "  </tbody>\n",
              "</table>"
            ],
            "text/plain": [
              "<IPython.core.display.HTML object>"
            ]
          },
          "metadata": {
            "tags": []
          }
        }
      ]
    },
    {
      "cell_type": "code",
      "metadata": {
        "id": "8VAShAUVcKhU",
        "outputId": "6ab78920-07de-40ba-be76-66f0257cfea3",
        "colab": {
          "base_uri": "https://localhost:8080/",
          "height": 236
        }
      },
      "source": [
        "learn.fine_tune(4, 1e-02)"
      ],
      "execution_count": null,
      "outputs": [
        {
          "output_type": "display_data",
          "data": {
            "text/html": [
              "<table border=\"1\" class=\"dataframe\">\n",
              "  <thead>\n",
              "    <tr style=\"text-align: left;\">\n",
              "      <th>epoch</th>\n",
              "      <th>train_loss</th>\n",
              "      <th>valid_loss</th>\n",
              "      <th>accuracy</th>\n",
              "      <th>time</th>\n",
              "    </tr>\n",
              "  </thead>\n",
              "  <tbody>\n",
              "    <tr>\n",
              "      <td>0</td>\n",
              "      <td>1.096192</td>\n",
              "      <td>1.416026</td>\n",
              "      <td>0.484444</td>\n",
              "      <td>00:14</td>\n",
              "    </tr>\n",
              "  </tbody>\n",
              "</table>"
            ],
            "text/plain": [
              "<IPython.core.display.HTML object>"
            ]
          },
          "metadata": {
            "tags": []
          }
        },
        {
          "output_type": "display_data",
          "data": {
            "text/html": [
              "<table border=\"1\" class=\"dataframe\">\n",
              "  <thead>\n",
              "    <tr style=\"text-align: left;\">\n",
              "      <th>epoch</th>\n",
              "      <th>train_loss</th>\n",
              "      <th>valid_loss</th>\n",
              "      <th>accuracy</th>\n",
              "      <th>time</th>\n",
              "    </tr>\n",
              "  </thead>\n",
              "  <tbody>\n",
              "    <tr>\n",
              "      <td>0</td>\n",
              "      <td>1.093140</td>\n",
              "      <td>1.332903</td>\n",
              "      <td>0.496667</td>\n",
              "      <td>00:28</td>\n",
              "    </tr>\n",
              "    <tr>\n",
              "      <td>1</td>\n",
              "      <td>1.003061</td>\n",
              "      <td>1.375171</td>\n",
              "      <td>0.518889</td>\n",
              "      <td>00:28</td>\n",
              "    </tr>\n",
              "    <tr>\n",
              "      <td>2</td>\n",
              "      <td>0.843615</td>\n",
              "      <td>1.268450</td>\n",
              "      <td>0.557778</td>\n",
              "      <td>00:28</td>\n",
              "    </tr>\n",
              "    <tr>\n",
              "      <td>3</td>\n",
              "      <td>0.642742</td>\n",
              "      <td>1.260896</td>\n",
              "      <td>0.550000</td>\n",
              "      <td>00:28</td>\n",
              "    </tr>\n",
              "  </tbody>\n",
              "</table>"
            ],
            "text/plain": [
              "<IPython.core.display.HTML object>"
            ]
          },
          "metadata": {
            "tags": []
          }
        }
      ]
    },
    {
      "cell_type": "code",
      "metadata": {
        "id": "7PwA0vticYxh",
        "outputId": "03a68a6d-9f83-40bb-e9ca-706461f99b8a",
        "colab": {
          "base_uri": "https://localhost:8080/",
          "height": 238
        }
      },
      "source": [
        "preds, targets = learn.get_preds()\n",
        "predictions = np.argmax(preds, axis=1)\n",
        "#pd.crosstab(predictions, targets, rownames=['predictions'], colnames=['targets'], margins=True)\n",
        "\n",
        "from sklearn.metrics import classification_report\n",
        "print(classification_report(targets, predictions))"
      ],
      "execution_count": null,
      "outputs": [
        {
          "output_type": "display_data",
          "data": {
            "text/html": [
              ""
            ],
            "text/plain": [
              "<IPython.core.display.HTML object>"
            ]
          },
          "metadata": {
            "tags": []
          }
        },
        {
          "output_type": "stream",
          "text": [
            "              precision    recall  f1-score   support\n",
            "\n",
            "           0       0.30      0.36      0.33       155\n",
            "           1       0.65      0.51      0.57       163\n",
            "           2       0.59      0.51      0.55       150\n",
            "           3       0.54      0.53      0.53       154\n",
            "           4       0.54      0.63      0.59       126\n",
            "           5       0.73      0.78      0.76       152\n",
            "\n",
            "    accuracy                           0.55       900\n",
            "   macro avg       0.56      0.55      0.55       900\n",
            "weighted avg       0.56      0.55      0.55       900\n",
            "\n"
          ],
          "name": "stdout"
        }
      ]
    },
    {
      "cell_type": "markdown",
      "metadata": {
        "id": "t7f4QHbbJIaU"
      },
      "source": [
        "# Predict on our YouTube dataset"
      ]
    },
    {
      "cell_type": "code",
      "metadata": {
        "id": "K_Ke9WExRAg6",
        "outputId": "d4a6b94c-6b59-4b59-ebbb-7989749b3f48",
        "colab": {
          "base_uri": "https://localhost:8080/",
          "height": 323
        }
      },
      "source": [
        "predict_path = \"/content/drive/My Drive/Omdena/YoutubeComment.csv\"\n",
        "predict_data_df = pd.read_csv(predict_path)\n",
        "predict_data_df.head()"
      ],
      "execution_count": null,
      "outputs": [
        {
          "output_type": "execute_result",
          "data": {
            "text/html": [
              "<div>\n",
              "<style scoped>\n",
              "    .dataframe tbody tr th:only-of-type {\n",
              "        vertical-align: middle;\n",
              "    }\n",
              "\n",
              "    .dataframe tbody tr th {\n",
              "        vertical-align: top;\n",
              "    }\n",
              "\n",
              "    .dataframe thead th {\n",
              "        text-align: right;\n",
              "    }\n",
              "</style>\n",
              "<table border=\"1\" class=\"dataframe\">\n",
              "  <thead>\n",
              "    <tr style=\"text-align: right;\">\n",
              "      <th></th>\n",
              "      <th>User</th>\n",
              "      <th>Comments</th>\n",
              "    </tr>\n",
              "  </thead>\n",
              "  <tbody>\n",
              "    <tr>\n",
              "      <th>0</th>\n",
              "      <td>Världens Bästa Bil</td>\n",
              "      <td>Lol just close the screen</td>\n",
              "    </tr>\n",
              "    <tr>\n",
              "      <th>1</th>\n",
              "      <td>pamela bibby</td>\n",
              "      <td>why are bullies so creul why do so many people bully and why cant people leave you alone</td>\n",
              "    </tr>\n",
              "    <tr>\n",
              "      <th>2</th>\n",
              "      <td>Romina Martinez</td>\n",
              "      <td>It&amp;#39;s difficult to hear these bad experiences, I have to make a story for the University about it. I&amp;#39;d also been bullied when I was in primary school and then when I was in my first year of secondary school. it was really bad because I felt alone, nobody wanted to talk with me. they said bad things of me, I wanted to change school but I couldn&amp;#39;t so I had to be with them until I had finished my first year. Then, everything had changed. I had made lots of friends and I get really good grades and now I&amp;#39;m in my second year of university, it was difficult when my classmates told ...</td>\n",
              "    </tr>\n",
              "    <tr>\n",
              "      <th>3</th>\n",
              "      <td>Ogarite Kattan</td>\n",
              "      <td>The hardest part when you&amp;#39;re bullied, is that you have to hurt and bleed alone sometimes...  You start to believe what others say about you , you&amp;#39;re lost and you just don&amp;#39;t know what to do in this cruel world ...</td>\n",
              "    </tr>\n",
              "    <tr>\n",
              "      <th>4</th>\n",
              "      <td>Luke Allan</td>\n",
              "      <td>Bullying is awful. I myself has been experiencing this. It has caused me to not respect myself and feel like I will never be good at anything. Even as an adult I feel scared and feel a bit scared to try and do better for myself. However what I also learned to do to help is to surround youreself with those who love you and care for you.</td>\n",
              "    </tr>\n",
              "  </tbody>\n",
              "</table>\n",
              "</div>"
            ],
            "text/plain": [
              "                 User                                                                                                                                                                                                                                                                                                                                                                                                                                                                                                                                                                                                                 Comments\n",
              "0  Världens Bästa Bil                                                                                                                                                                                                                                                                                                                                                                                                                                                                                                                                                                                                Lol just close the screen\n",
              "1        pamela bibby                                                                                                                                                                                                                                                                                                                                                                                                                                                                                                                                 why are bullies so creul why do so many people bully and why cant people leave you alone\n",
              "2     Romina Martinez  It&#39;s difficult to hear these bad experiences, I have to make a story for the University about it. I&#39;d also been bullied when I was in primary school and then when I was in my first year of secondary school. it was really bad because I felt alone, nobody wanted to talk with me. they said bad things of me, I wanted to change school but I couldn&#39;t so I had to be with them until I had finished my first year. Then, everything had changed. I had made lots of friends and I get really good grades and now I&#39;m in my second year of university, it was difficult when my classmates told ...\n",
              "3      Ogarite Kattan                                                                                                                                                                                                                                                                                                                                                                                         The hardest part when you&#39;re bullied, is that you have to hurt and bleed alone sometimes...  You start to believe what others say about you , you&#39;re lost and you just don&#39;t know what to do in this cruel world ...\n",
              "4          Luke Allan                                                                                                                                                                                                                                                                        Bullying is awful. I myself has been experiencing this. It has caused me to not respect myself and feel like I will never be good at anything. Even as an adult I feel scared and feel a bit scared to try and do better for myself. However what I also learned to do to help is to surround youreself with those who love you and care for you."
            ]
          },
          "metadata": {
            "tags": []
          },
          "execution_count": 35
        }
      ]
    },
    {
      "cell_type": "code",
      "metadata": {
        "id": "R5t1xakog2lq",
        "outputId": "eaa8642f-04d2-46a3-b279-ade42ae9af8b",
        "colab": {
          "base_uri": "https://localhost:8080/",
          "height": 547
        }
      },
      "source": [
        "pl = predict_data_df.Comments.to_list()\n",
        "for p in pl[:10]:\n",
        "  print(p, \"\\n\", learn.predict(p), \"\\n\")"
      ],
      "execution_count": null,
      "outputs": [
        {
          "output_type": "display_data",
          "data": {
            "text/html": [
              ""
            ],
            "text/plain": [
              "<IPython.core.display.HTML object>"
            ]
          },
          "metadata": {
            "tags": []
          }
        },
        {
          "output_type": "stream",
          "text": [
            "Lol just close the screen \n",
            " ('0.0', tensor(0), tensor([0.5170, 0.2463, 0.0832, 0.1328, 0.0160, 0.0047])) \n",
            "\n"
          ],
          "name": "stdout"
        },
        {
          "output_type": "display_data",
          "data": {
            "text/html": [
              ""
            ],
            "text/plain": [
              "<IPython.core.display.HTML object>"
            ]
          },
          "metadata": {
            "tags": []
          }
        },
        {
          "output_type": "stream",
          "text": [
            "why are bullies so creul why do so many people bully and why cant people leave you alone \n",
            " ('1.0', tensor(1), tensor([0.0966, 0.5383, 0.1723, 0.1873, 0.0031, 0.0023])) \n",
            "\n"
          ],
          "name": "stdout"
        },
        {
          "output_type": "display_data",
          "data": {
            "text/html": [
              ""
            ],
            "text/plain": [
              "<IPython.core.display.HTML object>"
            ]
          },
          "metadata": {
            "tags": []
          }
        },
        {
          "output_type": "stream",
          "text": [
            "It&#39;s difficult to hear these bad experiences, I have to make a story for the University about it. I&#39;d also been bullied when I was in primary school and then when I was in my first year of secondary school. it was really bad because I felt alone, nobody wanted to talk with me. they said bad things of me, I wanted to change school but I couldn&#39;t so I had to be with them until I had finished my first year. Then, everything had changed. I had made lots of friends and I get really good grades and now I&#39;m in my second year of university, it was difficult when my classmates told me I would never have a future but today I can tell that I gave a good lesson to all of them. \n",
            " ('1.0', tensor(1), tensor([0.2214, 0.3563, 0.2677, 0.1101, 0.0360, 0.0085])) \n",
            "\n"
          ],
          "name": "stdout"
        },
        {
          "output_type": "display_data",
          "data": {
            "text/html": [
              ""
            ],
            "text/plain": [
              "<IPython.core.display.HTML object>"
            ]
          },
          "metadata": {
            "tags": []
          }
        },
        {
          "output_type": "stream",
          "text": [
            "The hardest part when you&#39;re bullied, is that you have to hurt and bleed alone sometimes...  You start to believe what others say about you , you&#39;re lost and you just don&#39;t know what to do in this cruel world ... \n",
            " ('0.0', tensor(0), tensor([0.5234, 0.2060, 0.1322, 0.1002, 0.0278, 0.0104])) \n",
            "\n"
          ],
          "name": "stdout"
        },
        {
          "output_type": "display_data",
          "data": {
            "text/html": [
              ""
            ],
            "text/plain": [
              "<IPython.core.display.HTML object>"
            ]
          },
          "metadata": {
            "tags": []
          }
        },
        {
          "output_type": "stream",
          "text": [
            "Bullying is awful. I myself has been experiencing this. It has caused me to not respect myself and feel like I will never be good at anything. Even as an adult I feel scared and feel a bit scared to try and do better for myself. However what I also learned to do to help is to surround youreself with those who love you and care for you. \n",
            " ('1.0', tensor(1), tensor([0.0777, 0.7556, 0.0328, 0.0687, 0.0405, 0.0247])) \n",
            "\n"
          ],
          "name": "stdout"
        },
        {
          "output_type": "display_data",
          "data": {
            "text/html": [
              ""
            ],
            "text/plain": [
              "<IPython.core.display.HTML object>"
            ]
          },
          "metadata": {
            "tags": []
          }
        },
        {
          "output_type": "stream",
          "text": [
            "I get cyber bullied repeatedly. It ends, then starts again. You&#39;re waiting for who comes next, Its like<br />fighting a wave of never ending enemies. <a href=\"http://www.youtube.com/results?search_query=%23bullyingneedstostopnow\">#bullyingneedstostopnow</a> \n",
            " ('1.0', tensor(1), tensor([0.1816, 0.3354, 0.1214, 0.2305, 0.1047, 0.0264])) \n",
            "\n"
          ],
          "name": "stdout"
        },
        {
          "output_type": "display_data",
          "data": {
            "text/html": [
              ""
            ],
            "text/plain": [
              "<IPython.core.display.HTML object>"
            ]
          },
          "metadata": {
            "tags": []
          }
        },
        {
          "output_type": "stream",
          "text": [
            "I&#39;m trying to spread the idea to stand up and say no! \n",
            " ('0.0', tensor(0), tensor([0.5080, 0.1369, 0.1468, 0.1447, 0.0329, 0.0307])) \n",
            "\n"
          ],
          "name": "stdout"
        },
        {
          "output_type": "display_data",
          "data": {
            "text/html": [
              ""
            ],
            "text/plain": [
              "<IPython.core.display.HTML object>"
            ]
          },
          "metadata": {
            "tags": []
          }
        },
        {
          "output_type": "stream",
          "text": [
            "I cry every night and smile every day 😃😃😃😃 \n",
            " ('0.0', tensor(0), tensor([0.6187, 0.2109, 0.0641, 0.0396, 0.0587, 0.0081])) \n",
            "\n"
          ],
          "name": "stdout"
        },
        {
          "output_type": "display_data",
          "data": {
            "text/html": [
              ""
            ],
            "text/plain": [
              "<IPython.core.display.HTML object>"
            ]
          },
          "metadata": {
            "tags": []
          }
        },
        {
          "output_type": "stream",
          "text": [
            "I&#39;m bullying to every day...and I must live witch that 😔 so what I&#39;m gonna do?? NOTHING 😢 I know what that mean but I try to smile 😃😃❤ \n",
            " ('1.0', tensor(1), tensor([0.1538, 0.5015, 0.1128, 0.2138, 0.0091, 0.0090])) \n",
            "\n"
          ],
          "name": "stdout"
        },
        {
          "output_type": "display_data",
          "data": {
            "text/html": [
              ""
            ],
            "text/plain": [
              "<IPython.core.display.HTML object>"
            ]
          },
          "metadata": {
            "tags": []
          }
        },
        {
          "output_type": "stream",
          "text": [
            "Lol just close the screen \n",
            " ('0.0', tensor(0), tensor([0.5170, 0.2463, 0.0832, 0.1328, 0.0160, 0.0047])) \n",
            "\n"
          ],
          "name": "stdout"
        }
      ]
    },
    {
      "cell_type": "code",
      "metadata": {
        "id": "glcphTjCFh9x",
        "cellView": "both"
      },
      "source": [
        "\n"
      ],
      "execution_count": null,
      "outputs": []
    }
  ]
}